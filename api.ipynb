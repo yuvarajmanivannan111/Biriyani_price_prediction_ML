{
 "cells": [
  {
   "cell_type": "code",
   "execution_count": null,
   "metadata": {},
   "outputs": [],
   "source": [
    "!pip install scikit-learn"
   ]
  },
  {
   "cell_type": "code",
   "execution_count": null,
   "metadata": {},
   "outputs": [],
   "source": [
    "!pip install pandas"
   ]
  },
  {
   "cell_type": "code",
   "execution_count": 7,
   "metadata": {},
   "outputs": [
    {
     "data": {
      "text/html": [
       "<div>\n",
       "<style scoped>\n",
       "    .dataframe tbody tr th:only-of-type {\n",
       "        vertical-align: middle;\n",
       "    }\n",
       "\n",
       "    .dataframe tbody tr th {\n",
       "        vertical-align: top;\n",
       "    }\n",
       "\n",
       "    .dataframe thead th {\n",
       "        text-align: right;\n",
       "    }\n",
       "</style>\n",
       "<table border=\"1\" class=\"dataframe\">\n",
       "  <thead>\n",
       "    <tr style=\"text-align: right;\">\n",
       "      <th></th>\n",
       "      <th>Chicken_Price</th>\n",
       "      <th>Rice_Price</th>\n",
       "      <th>Spice_Price</th>\n",
       "      <th>Vegetable_Price</th>\n",
       "      <th>Chef_Experience</th>\n",
       "      <th>Biryani_Price</th>\n",
       "    </tr>\n",
       "  </thead>\n",
       "  <tbody>\n",
       "    <tr>\n",
       "      <th>0</th>\n",
       "      <td>122.159655</td>\n",
       "      <td>50.926428</td>\n",
       "      <td>23.162055</td>\n",
       "      <td>39.741046</td>\n",
       "      <td>14</td>\n",
       "      <td>155.47</td>\n",
       "    </tr>\n",
       "    <tr>\n",
       "      <th>1</th>\n",
       "      <td>54.809464</td>\n",
       "      <td>69.086702</td>\n",
       "      <td>47.263580</td>\n",
       "      <td>48.210956</td>\n",
       "      <td>4</td>\n",
       "      <td>133.60</td>\n",
       "    </tr>\n",
       "    <tr>\n",
       "      <th>2</th>\n",
       "      <td>128.151448</td>\n",
       "      <td>70.747459</td>\n",
       "      <td>39.408506</td>\n",
       "      <td>64.656744</td>\n",
       "      <td>16</td>\n",
       "      <td>166.36</td>\n",
       "    </tr>\n",
       "    <tr>\n",
       "      <th>3</th>\n",
       "      <td>132.794089</td>\n",
       "      <td>84.501217</td>\n",
       "      <td>21.255638</td>\n",
       "      <td>72.309967</td>\n",
       "      <td>20</td>\n",
       "      <td>173.97</td>\n",
       "    </tr>\n",
       "    <tr>\n",
       "      <th>4</th>\n",
       "      <td>125.050192</td>\n",
       "      <td>81.930751</td>\n",
       "      <td>20.105964</td>\n",
       "      <td>46.019320</td>\n",
       "      <td>14</td>\n",
       "      <td>161.44</td>\n",
       "    </tr>\n",
       "    <tr>\n",
       "      <th>5</th>\n",
       "      <td>129.953713</td>\n",
       "      <td>64.153003</td>\n",
       "      <td>10.203286</td>\n",
       "      <td>22.619699</td>\n",
       "      <td>15</td>\n",
       "      <td>158.43</td>\n",
       "    </tr>\n",
       "    <tr>\n",
       "      <th>6</th>\n",
       "      <td>132.513268</td>\n",
       "      <td>53.081386</td>\n",
       "      <td>37.828572</td>\n",
       "      <td>29.700353</td>\n",
       "      <td>3</td>\n",
       "      <td>143.92</td>\n",
       "    </tr>\n",
       "    <tr>\n",
       "      <th>7</th>\n",
       "      <td>68.640499</td>\n",
       "      <td>78.703250</td>\n",
       "      <td>11.951343</td>\n",
       "      <td>21.251668</td>\n",
       "      <td>8</td>\n",
       "      <td>138.01</td>\n",
       "    </tr>\n",
       "    <tr>\n",
       "      <th>8</th>\n",
       "      <td>73.569175</td>\n",
       "      <td>65.302236</td>\n",
       "      <td>31.304101</td>\n",
       "      <td>59.195781</td>\n",
       "      <td>16</td>\n",
       "      <td>151.50</td>\n",
       "    </tr>\n",
       "    <tr>\n",
       "      <th>9</th>\n",
       "      <td>113.375856</td>\n",
       "      <td>47.936573</td>\n",
       "      <td>48.484879</td>\n",
       "      <td>39.938878</td>\n",
       "      <td>10</td>\n",
       "      <td>150.38</td>\n",
       "    </tr>\n",
       "    <tr>\n",
       "      <th>10</th>\n",
       "      <td>140.786613</td>\n",
       "      <td>94.034338</td>\n",
       "      <td>14.378754</td>\n",
       "      <td>52.548718</td>\n",
       "      <td>4</td>\n",
       "      <td>152.18</td>\n",
       "    </tr>\n",
       "    <tr>\n",
       "      <th>11</th>\n",
       "      <td>81.619658</td>\n",
       "      <td>81.473311</td>\n",
       "      <td>45.779197</td>\n",
       "      <td>49.596611</td>\n",
       "      <td>18</td>\n",
       "      <td>160.01</td>\n",
       "    </tr>\n",
       "    <tr>\n",
       "      <th>12</th>\n",
       "      <td>108.830668</td>\n",
       "      <td>80.991031</td>\n",
       "      <td>49.659013</td>\n",
       "      <td>24.891589</td>\n",
       "      <td>2</td>\n",
       "      <td>142.93</td>\n",
       "    </tr>\n",
       "    <tr>\n",
       "      <th>13</th>\n",
       "      <td>118.298206</td>\n",
       "      <td>89.355033</td>\n",
       "      <td>12.460681</td>\n",
       "      <td>44.195682</td>\n",
       "      <td>17</td>\n",
       "      <td>164.41</td>\n",
       "    </tr>\n",
       "    <tr>\n",
       "      <th>14</th>\n",
       "      <td>95.194860</td>\n",
       "      <td>71.779701</td>\n",
       "      <td>45.316251</td>\n",
       "      <td>33.233667</td>\n",
       "      <td>13</td>\n",
       "      <td>153.68</td>\n",
       "    </tr>\n",
       "  </tbody>\n",
       "</table>\n",
       "</div>"
      ],
      "text/plain": [
       "    Chicken_Price  Rice_Price  Spice_Price  Vegetable_Price  Chef_Experience  \\\n",
       "0      122.159655   50.926428    23.162055        39.741046               14   \n",
       "1       54.809464   69.086702    47.263580        48.210956                4   \n",
       "2      128.151448   70.747459    39.408506        64.656744               16   \n",
       "3      132.794089   84.501217    21.255638        72.309967               20   \n",
       "4      125.050192   81.930751    20.105964        46.019320               14   \n",
       "5      129.953713   64.153003    10.203286        22.619699               15   \n",
       "6      132.513268   53.081386    37.828572        29.700353                3   \n",
       "7       68.640499   78.703250    11.951343        21.251668                8   \n",
       "8       73.569175   65.302236    31.304101        59.195781               16   \n",
       "9      113.375856   47.936573    48.484879        39.938878               10   \n",
       "10     140.786613   94.034338    14.378754        52.548718                4   \n",
       "11      81.619658   81.473311    45.779197        49.596611               18   \n",
       "12     108.830668   80.991031    49.659013        24.891589                2   \n",
       "13     118.298206   89.355033    12.460681        44.195682               17   \n",
       "14      95.194860   71.779701    45.316251        33.233667               13   \n",
       "\n",
       "    Biryani_Price  \n",
       "0          155.47  \n",
       "1          133.60  \n",
       "2          166.36  \n",
       "3          173.97  \n",
       "4          161.44  \n",
       "5          158.43  \n",
       "6          143.92  \n",
       "7          138.01  \n",
       "8          151.50  \n",
       "9          150.38  \n",
       "10         152.18  \n",
       "11         160.01  \n",
       "12         142.93  \n",
       "13         164.41  \n",
       "14         153.68  "
      ]
     },
     "execution_count": 7,
     "metadata": {},
     "output_type": "execute_result"
    }
   ],
   "source": [
    "import pandas as pd\n",
    "\n",
    "\n",
    "biryani=pd.read_csv(\"https://raw.githubusercontent.com/nethajinirmal13/Training-datasets/main/Biryani_Price_Prediction_Numerical_Features_Data.csv\")\n",
    "biryani.head(15)\n"
   ]
  },
  {
   "cell_type": "code",
   "execution_count": 5,
   "metadata": {},
   "outputs": [
    {
     "data": {
      "text/plain": [
       "1200"
      ]
     },
     "execution_count": 5,
     "metadata": {},
     "output_type": "execute_result"
    }
   ],
   "source": [
    "biryani.size"
   ]
  },
  {
   "cell_type": "code",
   "execution_count": null,
   "metadata": {},
   "outputs": [],
   "source": [
    "biryani.info()"
   ]
  },
  {
   "cell_type": "code",
   "execution_count": null,
   "metadata": {},
   "outputs": [],
   "source": [
    "biryani.info"
   ]
  },
  {
   "cell_type": "code",
   "execution_count": null,
   "metadata": {},
   "outputs": [],
   "source": [
    "x=biryani[[\"Chicken_Price\",\"Rice_Price\",\"Spice_Price\",\"Vegetable_Price\",\"Chef_Experience\"]].values\n",
    "\n",
    "\n",
    "y=biryani[\"Biryani_Price\"].values\n",
    "\n",
    "\n",
    "from sklearn.model_selection import train_test_split\n",
    "X_train, X_test, y_train, y_test = train_test_split(x, y, test_size=0.3, random_state=10)\n",
    "\n",
    "from sklearn.linear_model import LinearRegression\n",
    "model=LinearRegression().fit(X_train,y_train)\n",
    "model\n",
    "\n",
    "\n",
    "\n",
    "\n",
    "\n"
   ]
  },
  {
   "cell_type": "code",
   "execution_count": null,
   "metadata": {},
   "outputs": [],
   "source": [
    "y_pred=model.predict([[120,60,25,50,10]])\n",
    "y_pred"
   ]
  },
  {
   "cell_type": "code",
   "execution_count": 16,
   "metadata": {},
   "outputs": [
    {
     "data": {
      "text/html": [
       "<div>\n",
       "<style scoped>\n",
       "    .dataframe tbody tr th:only-of-type {\n",
       "        vertical-align: middle;\n",
       "    }\n",
       "\n",
       "    .dataframe tbody tr th {\n",
       "        vertical-align: top;\n",
       "    }\n",
       "\n",
       "    .dataframe thead th {\n",
       "        text-align: right;\n",
       "    }\n",
       "</style>\n",
       "<table border=\"1\" class=\"dataframe\">\n",
       "  <thead>\n",
       "    <tr style=\"text-align: right;\">\n",
       "      <th></th>\n",
       "      <th>Chicken_Price</th>\n",
       "      <th>Rice_Price</th>\n",
       "      <th>Spice_Price</th>\n",
       "      <th>Vegetable_Price</th>\n",
       "      <th>Chef_Experience</th>\n",
       "      <th>Biryani_Price</th>\n",
       "    </tr>\n",
       "  </thead>\n",
       "  <tbody>\n",
       "    <tr>\n",
       "      <th>0</th>\n",
       "      <td>122.159655</td>\n",
       "      <td>50.926428</td>\n",
       "      <td>23.162055</td>\n",
       "      <td>39.741046</td>\n",
       "      <td>14</td>\n",
       "      <td>155.47</td>\n",
       "    </tr>\n",
       "  </tbody>\n",
       "</table>\n",
       "</div>"
      ],
      "text/plain": [
       "   Chicken_Price  Rice_Price  Spice_Price  Vegetable_Price  Chef_Experience  \\\n",
       "0     122.159655   50.926428    23.162055        39.741046               14   \n",
       "\n",
       "   Biryani_Price  \n",
       "0         155.47  "
      ]
     },
     "execution_count": 16,
     "metadata": {},
     "output_type": "execute_result"
    }
   ],
   "source": [
    "biryani.head(1)"
   ]
  },
  {
   "cell_type": "code",
   "execution_count": 3,
   "metadata": {},
   "outputs": [
    {
     "name": "stdout",
     "output_type": "stream",
     "text": [
      "Mean Absolute Error: 0.32657656784917843\n",
      "Mean Squared Error: 0.18038640458164326\n",
      "Root Mean Squared Error: 0.42471920674916885\n"
     ]
    }
   ],
   "source": [
    "from sklearn import metrics\n",
    "import numpy as np\n",
    "print('Mean Absolute Error:', metrics.mean_absolute_error(y_test, y_pred))\n",
    "print('Mean Squared Error:', metrics.mean_squared_error(y_test, y_pred))\n",
    "print('Root Mean Squared Error:', np.sqrt(metrics.mean_squared_error(y_test, y_pred)))"
   ]
  },
  {
   "cell_type": "code",
   "execution_count": 4,
   "metadata": {},
   "outputs": [
    {
     "name": "stdout",
     "output_type": "stream",
     "text": [
      "R² score: 0.9986227311412476\n"
     ]
    }
   ],
   "source": [
    "from sklearn.metrics import r2_score\n",
    "r2 = r2_score(y_test, y_pred)\n",
    "print('R² score:', r2)"
   ]
  },
  {
   "cell_type": "code",
   "execution_count": 5,
   "metadata": {},
   "outputs": [
    {
     "data": {
      "text/plain": [
       "array([145.01272643])"
      ]
     },
     "execution_count": 5,
     "metadata": {},
     "output_type": "execute_result"
    }
   ],
   "source": [
    "import pickle\n",
    "\n",
    "\n",
    "# Assuming your model is stored in a variable called 'model'\n",
    "with open('yuva.pkl', 'wb') as file:\n",
    "   pickle.dump(model, file)\n",
    "\n",
    "\n",
    "with open('yuva.pkl', 'rb') as file:\n",
    "   yuvi = pickle.load(file)\n",
    "\n",
    "\n",
    "yuvi.predict([[120,40,50,60,5]])"
   ]
  },
  {
   "cell_type": "code",
   "execution_count": null,
   "metadata": {},
   "outputs": [],
   "source": [
    "pip install modelbit"
   ]
  },
  {
   "cell_type": "code",
   "execution_count": 16,
   "metadata": {},
   "outputs": [
    {
     "data": {
      "text/html": [
       "\n",
       "<div style=\"margin: 0; padding: 5px; line-height: 1.75; font-size: 14px; vertical-align: baseline; list-style: none; font-family: Roboto, Arial, sans-serif; background: none;\">\n",
       "  <div style=\"margin: 0; padding: 0; line-height: 1.75; font-size: 14px; vertical-align: baseline; list-style: none; font-family: Roboto, Arial, sans-serif; background: none;\">\n",
       "    You're <span style=\"margin: 0; padding: 0; line-height: 1.75; font-size: 14px; vertical-align: baseline; list-style: none; font-family: Roboto, Arial, sans-serif; background: none; color: #15803d; font-weight: bold;\">connected</span> to Modelbit as yuvanelson1@gmail.com.\n",
       "    Workspace: <span style=\"margin: 0; padding: 0; line-height: 1.75; font-size: 14px; vertical-align: baseline; list-style: none; font-family: monospace; background: none; font-weight: bold; color: #845B99;\">yuvanelson</span>.\n",
       "    \n",
       "      Region: <span style=\"margin: 0; padding: 0; line-height: 1.75; font-size: 14px; vertical-align: baseline; list-style: none; font-family: monospace; background: none; font-weight: bold; color: #845B99;\">ap-south-1</span>\n",
       "    \n",
       "    Branch: <span style=\"margin: 0; padding: 0; line-height: 1.75; font-size: 14px; vertical-align: baseline; list-style: none; font-family: monospace; background: none; font-weight: bold; color: #845B99;\">main</span>\n",
       "\t</div>\n",
       "  \n",
       "\n",
       "\n",
       "</div>"
      ],
      "text/plain": [
       "<IPython.core.display.HTML object>"
      ]
     },
     "metadata": {},
     "output_type": "display_data"
    },
    {
     "data": {
      "text/html": [],
      "text/plain": [
       "<module 'modelbit' from 'c:\\\\Users\\\\yuvanelson\\\\Documents\\\\New folder\\\\.venv\\\\Lib\\\\site-packages\\\\modelbit\\\\__init__.py'>"
      ]
     },
     "execution_count": 16,
     "metadata": {},
     "output_type": "execute_result"
    }
   ],
   "source": [
    "modelbit.login()"
   ]
  },
  {
   "cell_type": "code",
   "execution_count": 17,
   "metadata": {},
   "outputs": [],
   "source": [
    "import modelbit\n",
    "mb = modelbit.login()"
   ]
  },
  {
   "cell_type": "code",
   "execution_count": 18,
   "metadata": {},
   "outputs": [],
   "source": [
    "# prompt: i have a model built under variable model which takes five features and returns briyani price deploy that model using model bit\n",
    "\n",
    "def predict_biryani_price(Chicken_Price: int, Rice_Price: int, Spice_Price: int, Vegetable_Price: int, Chef_Experience: int):\n",
    "  input_data = [[Chicken_Price, Rice_Price, Spice_Price, Vegetable_Price, Chef_Experience]]\n",
    "  prediction = model.predict(input_data)[0]\n",
    "  return {\n",
    "    \"Biryani_Price\": prediction\n",
    "  }"
   ]
  },
  {
   "cell_type": "code",
   "execution_count": 19,
   "metadata": {},
   "outputs": [
    {
     "data": {
      "text/html": [
       "<div style=\"margin: 0; padding: 5px; line-height: 1.75; font-size: 14px; vertical-align: baseline; list-style: none; font-family: Roboto, Arial, sans-serif; background: none;\">\n",
       "  <div>\n",
       "    <span style=\"margin: 0; padding: 0; line-height: 1.75; font-size: 14px; vertical-align: baseline; list-style: none; font-family: Roboto, Arial, sans-serif; background: none; font-weight: bold; color: #15803d;\">Deploying </span> <span style=\"margin: 0; padding: 3px; line-height: 1.75; font-size: 13px; vertical-align: baseline; list-style: none; font-family: monospace; background: none; font-weight: 400; background-color: rgba(209, 213, 219, 0.2);\">predict_biryani_price</span>\n",
       "  </div>\n",
       "  \n",
       "\n",
       "  <div style=\"margin: 0; padding: 0; line-height: 1.75; font-size: 14px; vertical-align: baseline; list-style: none; font-family: Roboto, Arial, sans-serif; background: none;\">Uploading dependencies...</div>\n",
       "</div>"
      ],
      "text/plain": [
       "<IPython.core.display.HTML object>"
      ]
     },
     "metadata": {},
     "output_type": "display_data"
    },
    {
     "data": {
      "text/html": [
       "<div style=\"margin: 0; padding: 5px; line-height: 1.75; font-size: 14px; vertical-align: baseline; list-style: none; font-family: Roboto, Arial, sans-serif; background: none;\">\n",
       "  <div style=\"margin: 0; padding: 0; line-height: 1.75; font-size: 14px; vertical-align: baseline; list-style: none; font-family: Roboto, Arial, sans-serif; background: none; font-weight: bold; color: #15803d;\">Success!</div>\n",
       "  \n",
       "    <div style=\"margin: 0; padding: 0; line-height: 1.75; font-size: 14px; vertical-align: baseline; list-style: none; font-family: Roboto, Arial, sans-serif; background: none;\">\n",
       "      Deployment <span style=\"margin: 0; padding: 3px; line-height: 1.75; font-size: 13px; vertical-align: baseline; list-style: none; font-family: monospace; background: none; font-weight: 400; background-color: rgba(209, 213, 219, 0.2);\">predict_biryani_price</span>\n",
       "      will be ready in  a few seconds!\n",
       "    </div>\n",
       "  \n",
       "\n",
       "  <a href=\"https://ap-south-1.modelbit.com/w/yuvanelson/main/deployments/predict_biryani_price/apis\" target=\"_blank\" style=\"display: inline-block; margin-top: 12px;\" >\n",
       "    <div\n",
       "      style=\"display: inline-block; background-color: #845B99; border-radius: 0.375rem; color: white; cursor: pointer; font-size: 14px; font-weight: 700; padding: 8px 16px;\"\n",
       "      onmouseenter=\"this.style.background='#714488'\"\n",
       "      onmouseleave=\"this.style.background='#845B99'\"\n",
       "    >\n",
       "      View in Modelbit\n",
       "    </div>\n",
       "  </a>\n",
       "</div>"
      ],
      "text/plain": [
       "<IPython.core.display.HTML object>"
      ]
     },
     "metadata": {},
     "output_type": "display_data"
    }
   ],
   "source": [
    "mb.deploy(predict_biryani_price)"
   ]
  },
  {
   "cell_type": "code",
   "execution_count": 20,
   "metadata": {},
   "outputs": [
    {
     "name": "stdout",
     "output_type": "stream",
     "text": [
      "{'data': {'Biryani_Price': 153.72807470367016}}\n"
     ]
    }
   ],
   "source": [
    "import requests\n",
    "# The endpoint URL provided by ModelBit\n",
    "url = 'https://codewithuvi.ap-south-1.modelbit.com/v1/predict_biryani_price/latest'\n",
    "# Example data for prediction\n",
    "data = {\"data\":[100, 79, 80, 50, 8]}\n",
    "# Sending a POST request to the model endpoint\n",
    "response = requests.post(url, json=data)\n",
    "print(response.json())\n"
   ]
  },
  {
   "cell_type": "code",
   "execution_count": null,
   "metadata": {},
   "outputs": [],
   "source": []
  }
 ],
 "metadata": {
  "kernelspec": {
   "display_name": "Python 3",
   "language": "python",
   "name": "python3"
  },
  "language_info": {
   "codemirror_mode": {
    "name": "ipython",
    "version": 3
   },
   "file_extension": ".py",
   "mimetype": "text/x-python",
   "name": "python",
   "nbconvert_exporter": "python",
   "pygments_lexer": "ipython3",
   "version": "3.12.4"
  }
 },
 "nbformat": 4,
 "nbformat_minor": 2
}
